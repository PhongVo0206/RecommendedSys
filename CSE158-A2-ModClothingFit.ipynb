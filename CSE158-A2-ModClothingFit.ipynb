{
 "cells": [
  {
   "cell_type": "code",
   "execution_count": 1,
   "metadata": {},
   "outputs": [],
   "source": [
    "import gzip\n",
    "import random\n",
    "from collections import defaultdict\n",
    "import numpy as np\n",
    "import json\n",
    "from sklearn import linear_model"
   ]
  },
  {
   "cell_type": "code",
   "execution_count": 2,
   "metadata": {},
   "outputs": [],
   "source": [
    "def parseData(fname):\n",
    "  for l in open(fname):\n",
    "    if l is \"null\": continue\n",
    "    yield json.loads(l)"
   ]
  },
  {
   "cell_type": "code",
   "execution_count": 3,
   "metadata": {},
   "outputs": [
    {
     "name": "stdout",
     "output_type": "stream",
     "text": [
      "Reading data...\n",
      "done\n"
     ]
    }
   ],
   "source": [
    "print(\"Reading data...\")\n",
    "data = list(parseData(\"modcloth_final_data.json\"))\n",
    "print(\"done\")"
   ]
  },
  {
   "cell_type": "code",
   "execution_count": null,
   "metadata": {},
   "outputs": [],
   "source": []
  },
  {
   "cell_type": "code",
   "execution_count": 4,
   "metadata": {},
   "outputs": [
    {
     "data": {
      "text/plain": [
       "{'item_id': '123373',\n",
       " 'waist': '29',\n",
       " 'size': 7,\n",
       " 'quality': 5,\n",
       " 'cup size': 'd',\n",
       " 'hips': '38',\n",
       " 'bra size': '34',\n",
       " 'category': 'new',\n",
       " 'bust': '36',\n",
       " 'height': '5ft 6in',\n",
       " 'user_name': 'Emily',\n",
       " 'length': 'just right',\n",
       " 'fit': 'small',\n",
       " 'user_id': '991571'}"
      ]
     },
     "execution_count": 4,
     "metadata": {},
     "output_type": "execute_result"
    }
   ],
   "source": [
    "data[0]"
   ]
  },
  {
   "cell_type": "code",
   "execution_count": 5,
   "metadata": {},
   "outputs": [
    {
     "data": {
      "text/plain": [
       "82790"
      ]
     },
     "execution_count": 5,
     "metadata": {},
     "output_type": "execute_result"
    }
   ],
   "source": [
    "len(data)\n"
   ]
  },
  {
   "cell_type": "code",
   "execution_count": 18,
   "metadata": {},
   "outputs": [
    {
     "data": {
      "text/plain": [
       "76535"
      ]
     },
     "execution_count": 18,
     "metadata": {},
     "output_type": "execute_result"
    }
   ],
   "source": [
    "len([d for d in data if \"cup size\" in d])"
   ]
  },
  {
   "cell_type": "code",
   "execution_count": 19,
   "metadata": {},
   "outputs": [
    {
     "data": {
      "text/plain": [
       "76772"
      ]
     },
     "execution_count": 19,
     "metadata": {},
     "output_type": "execute_result"
    }
   ],
   "source": [
    "len([d for d in data if \"bra size\" in d])"
   ]
  },
  {
   "cell_type": "code",
   "execution_count": 21,
   "metadata": {},
   "outputs": [
    {
     "data": {
      "text/plain": [
       "56064"
      ]
     },
     "execution_count": 21,
     "metadata": {},
     "output_type": "execute_result"
    }
   ],
   "source": [
    "len([d for d in data if \"hips\" in d])"
   ]
  },
  {
   "cell_type": "code",
   "execution_count": 22,
   "metadata": {},
   "outputs": [
    {
     "data": {
      "text/plain": [
       "11854"
      ]
     },
     "execution_count": 22,
     "metadata": {},
     "output_type": "execute_result"
    }
   ],
   "source": [
    "len([d for d in data if \"bust\" in d])"
   ]
  },
  {
   "cell_type": "code",
   "execution_count": 23,
   "metadata": {},
   "outputs": [
    {
     "data": {
      "text/plain": [
       "81683"
      ]
     },
     "execution_count": 23,
     "metadata": {},
     "output_type": "execute_result"
    }
   ],
   "source": [
    "len([d for d in data if \"height\" in d])"
   ]
  },
  {
   "cell_type": "code",
   "execution_count": null,
   "metadata": {},
   "outputs": [],
   "source": []
  },
  {
   "cell_type": "code",
   "execution_count": 30,
   "metadata": {},
   "outputs": [
    {
     "data": {
      "text/plain": [
       "54345"
      ]
     },
     "execution_count": 30,
     "metadata": {},
     "output_type": "execute_result"
    }
   ],
   "source": [
    "modData = [d for d in data if \"cup size\" in d and \"bra size\" in d and \"hips\" in d\n",
    "    and \"height\" in d]\n",
    "len(modData)"
   ]
  },
  {
   "cell_type": "code",
   "execution_count": 31,
   "metadata": {},
   "outputs": [
    {
     "data": {
      "text/plain": [
       "array(['a', 'aa', 'b', 'c', 'd', 'dd/e', 'ddd/f', 'dddd/g', 'h', 'i', 'j',\n",
       "       'k'], dtype='<U6')"
      ]
     },
     "execution_count": 31,
     "metadata": {},
     "output_type": "execute_result"
    }
   ],
   "source": [
    "np.unique([d['cup size'] for d in modData])"
   ]
  },
  {
   "cell_type": "code",
   "execution_count": 32,
   "metadata": {},
   "outputs": [
    {
     "data": {
      "text/plain": [
       "array(['28', '30', '32', '34', '36', '38', '40', '42', '44', '46', '48'],\n",
       "      dtype='<U2')"
      ]
     },
     "execution_count": 32,
     "metadata": {},
     "output_type": "execute_result"
    }
   ],
   "source": [
    "np.unique([d['bra size'] for d in modData])"
   ]
  },
  {
   "cell_type": "code",
   "execution_count": 33,
   "metadata": {},
   "outputs": [
    {
     "data": {
      "text/plain": [
       "array(['30', '30.0', '31', '31.0', '32', '32.0', '33', '33.0', '34',\n",
       "       '34.0', '35', '35.0', '36', '36.0', '37', '37.0', '38', '38.0',\n",
       "       '39', '39.0', '40', '40.0', '41', '41.0', '42', '42.0', '43',\n",
       "       '43.0', '44', '44.0', '45', '45.0', '46', '46.0', '47', '47.0',\n",
       "       '48', '48.0', '49', '49.0', '50', '50.0', '51', '51.0', '52',\n",
       "       '52.0', '53', '53.0', '54', '54.0', '55', '55.0', '56', '56.0',\n",
       "       '57', '57.0', '58', '58.0', '59', '59.0', '60', '60.0'],\n",
       "      dtype='<U4')"
      ]
     },
     "execution_count": 33,
     "metadata": {},
     "output_type": "execute_result"
    }
   ],
   "source": [
    "np.unique([d['hips'] for d in modData])"
   ]
  },
  {
   "cell_type": "code",
   "execution_count": 34,
   "metadata": {},
   "outputs": [
    {
     "data": {
      "text/plain": [
       "array(['3ft', '3ft 11in', '3ft 2in', '3ft 3in', '3ft 4in', '4ft 10in',\n",
       "       '4ft 11in', '4ft 2in', '4ft 5in', '4ft 7in', '4ft 8in', '4ft 9in',\n",
       "       '5ft', '5ft 10in', '5ft 11in', '5ft 1in', '5ft 2in', '5ft 3in',\n",
       "       '5ft 4in', '5ft 5in', '5ft 6in', '5ft 7in', '5ft 8in', '5ft 9in',\n",
       "       '6ft', '6ft 1in', '6ft 2in', '6ft 3in', '6ft 4in', '6ft 5in',\n",
       "       '6ft 6in', '6ft 8in', '7ft 11in', '7ft 7in'], dtype='<U8')"
      ]
     },
     "execution_count": 34,
     "metadata": {},
     "output_type": "execute_result"
    }
   ],
   "source": [
    "np.unique([d['height'] for d in modData])"
   ]
  },
  {
   "cell_type": "code",
   "execution_count": 8,
   "metadata": {},
   "outputs": [
    {
     "data": {
      "text/plain": [
       "{'romper': 0,\n",
       " 'gown': 1,\n",
       " 'sheath': 2,\n",
       " 'dress': 3,\n",
       " 'top': 4,\n",
       " 'jumpsuit': 5,\n",
       " 'sweater': 6,\n",
       " 'jacket': 7,\n",
       " 'shirtdress': 8,\n",
       " 'maxi': 9,\n",
       " 'shift': 10,\n",
       " 'mini': 11,\n",
       " 'skirt': 12,\n",
       " 'blouse': 13,\n",
       " 'coat': 14,\n",
       " 'blazer': 15}"
      ]
     },
     "execution_count": 8,
     "metadata": {},
     "output_type": "execute_result"
    }
   ],
   "source": [
    "categoryCounts = defaultdict(int)\n",
    "for d in modData:\n",
    "    categoryCounts[d['category']] += 1\n",
    "categories = [c for c in categoryCounts if categoryCounts[c] > 500]\n",
    "catID = dict(zip(list(categories),range(len(categories))))\n",
    "catID"
   ]
  },
  {
   "cell_type": "code",
   "execution_count": 9,
   "metadata": {},
   "outputs": [],
   "source": [
    "def feat(d):\n",
    "    feat = []\n",
    "    feat = [0] * len(catID)\n",
    "    if d['category'] in catID:\n",
    "        feat[catID[d['category']]] = 1\n",
    "    return feat + [1]"
   ]
  },
  {
   "cell_type": "code",
   "execution_count": 10,
   "metadata": {},
   "outputs": [],
   "source": [
    "X = [feat(d) for d in modData]\n",
    "y = [int(d['rating'])>=8 for d in modData]"
   ]
  },
  {
   "cell_type": "code",
   "execution_count": 11,
   "metadata": {},
   "outputs": [],
   "source": [
    "N = len(X)\n",
    "Xtrain = X[:N//2]\n",
    "Xvalid = X[N//2:3*N//4]\n",
    "Xtest = X[3*N//4:]\n",
    "ytrain = y[:N//2]\n",
    "yvalid = y[N//2:3*N//4]\n",
    "ytest = y[3*N//4:]"
   ]
  },
  {
   "cell_type": "code",
   "execution_count": 12,
   "metadata": {},
   "outputs": [],
   "source": [
    "mod = linear_model.LogisticRegression(C=1000, class_weight='balanced', max_iter=1000)"
   ]
  },
  {
   "cell_type": "code",
   "execution_count": 13,
   "metadata": {},
   "outputs": [
    {
     "data": {
      "text/plain": [
       "[[1, 0, 0, 0, 0, 0, 0, 0, 0, 0, 0, 0, 0, 0, 0, 0, 1],\n",
       " [0, 1, 0, 0, 0, 0, 0, 0, 0, 0, 0, 0, 0, 0, 0, 0, 1],\n",
       " [0, 0, 1, 0, 0, 0, 0, 0, 0, 0, 0, 0, 0, 0, 0, 0, 1],\n",
       " [0, 0, 0, 1, 0, 0, 0, 0, 0, 0, 0, 0, 0, 0, 0, 0, 1],\n",
       " [0, 1, 0, 0, 0, 0, 0, 0, 0, 0, 0, 0, 0, 0, 0, 0, 1]]"
      ]
     },
     "execution_count": 13,
     "metadata": {},
     "output_type": "execute_result"
    }
   ],
   "source": [
    "Xtrain[:5]"
   ]
  },
  {
   "cell_type": "code",
   "execution_count": 14,
   "metadata": {},
   "outputs": [
    {
     "data": {
      "text/plain": [
       "[True, True, True, True, True]"
      ]
     },
     "execution_count": 14,
     "metadata": {},
     "output_type": "execute_result"
    }
   ],
   "source": [
    "y[:5]"
   ]
  },
  {
   "cell_type": "code",
   "execution_count": null,
   "metadata": {},
   "outputs": [],
   "source": []
  },
  {
   "cell_type": "code",
   "execution_count": 15,
   "metadata": {},
   "outputs": [
    {
     "data": {
      "text/plain": [
       "LogisticRegression(C=1000, class_weight='balanced', dual=False,\n",
       "                   fit_intercept=True, intercept_scaling=1, l1_ratio=None,\n",
       "                   max_iter=1000, multi_class='auto', n_jobs=None, penalty='l2',\n",
       "                   random_state=None, solver='lbfgs', tol=0.0001, verbose=0,\n",
       "                   warm_start=False)"
      ]
     },
     "execution_count": 15,
     "metadata": {},
     "output_type": "execute_result"
    }
   ],
   "source": [
    "mod.fit(Xtrain,ytrain)"
   ]
  },
  {
   "cell_type": "code",
   "execution_count": 16,
   "metadata": {},
   "outputs": [
    {
     "name": "stdout",
     "output_type": "stream",
     "text": [
      "Accuracy is: 0.38501506806609165\n",
      "C = 1000; validation BER = 0.4578911925680753\n"
     ]
    }
   ],
   "source": [
    "ypredValid = mod.predict(Xvalid)\n",
    "\n",
    "# validation\n",
    "\n",
    "TP = sum([(a and b) for (a,b) in zip(yvalid, ypredValid)])\n",
    "TN = sum([(not a and not b) for (a,b) in zip(yvalid, ypredValid)])\n",
    "FP = sum([(not a and b) for (a,b) in zip(yvalid, ypredValid)])\n",
    "FN = sum([(a and not b) for (a,b) in zip(yvalid, ypredValid)])\n",
    "\n",
    "TPR = TP / (TP + FN)\n",
    "TNR = TN / (TN + FP)\n",
    "\n",
    "BER = 1 - 0.5*(TPR + TNR)\n",
    "print(\"Accuracy is:\", (TP+TN)/len(yvalid))\n",
    "print(\"C = 1000\" + \"; validation BER = \" + str(BER))"
   ]
  }
 ],
 "metadata": {
  "kernelspec": {
   "display_name": "Python 3",
   "language": "python",
   "name": "python3"
  },
  "language_info": {
   "codemirror_mode": {
    "name": "ipython",
    "version": 3
   },
   "file_extension": ".py",
   "mimetype": "text/x-python",
   "name": "python",
   "nbconvert_exporter": "python",
   "pygments_lexer": "ipython3",
   "version": "3.7.6"
  }
 },
 "nbformat": 4,
 "nbformat_minor": 4
}
